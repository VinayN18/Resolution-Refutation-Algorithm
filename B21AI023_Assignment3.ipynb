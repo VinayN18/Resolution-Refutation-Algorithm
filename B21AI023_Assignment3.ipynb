{
  "nbformat": 4,
  "nbformat_minor": 0,
  "metadata": {
    "colab": {
      "provenance": [],
      "collapsed_sections": [
        "p1bQU6JxiI1k"
      ]
    },
    "kernelspec": {
      "name": "python3",
      "display_name": "Python 3"
    },
    "language_info": {
      "name": "python"
    }
  },
  "cells": [
    {
      "cell_type": "markdown",
      "source": [
        "## **Helper Functions**"
      ],
      "metadata": {
        "id": "kG9yPNl6fNPS"
      }
    },
    {
      "cell_type": "code",
      "source": [
        "OPERATORS = [\"&\", \"|\", \"!\", \"=\", \">\", \"(\", \")\"]"
      ],
      "metadata": {
        "id": "ZmXttZa0fW7f"
      },
      "execution_count": 1,
      "outputs": []
    },
    {
      "cell_type": "code",
      "source": [
        "# Function to check whether op is a propositional operator or not\n",
        "def is_prop_operator(op):\n",
        "    return op in OPERATORS"
      ],
      "metadata": {
        "id": "N0fHDFSFfRKn"
      },
      "execution_count": 2,
      "outputs": []
    },
    {
      "cell_type": "code",
      "source": [
        "# Function parses the input sentence, identifies operators, skips the spaces and extracts literals\n",
        "# Returns the list containing the operators and literals\n",
        "def segment_sentence(sentence):\n",
        "    i = 0\n",
        "    L = len(sentence)\n",
        "    segmented_sentence = []\n",
        "\n",
        "    while i < L:\n",
        "        if is_prop_operator(sentence[i]):\n",
        "            segmented_sentence.append(sentence[i])\n",
        "            i += 1\n",
        "        elif sentence[i] == \" \":\n",
        "            i += 1\n",
        "        else:\n",
        "            literal = \"\"\n",
        "            while i < L and not is_prop_operator(sentence[i]) and sentence[i] != \" \":\n",
        "                literal += sentence[i]\n",
        "                i += 1\n",
        "            segmented_sentence.append(literal)\n",
        "\n",
        "    return segmented_sentence"
      ],
      "metadata": {
        "id": "_347TBbSfu7S"
      },
      "execution_count": 3,
      "outputs": []
    },
    {
      "cell_type": "code",
      "source": [
        "# Function used to return the forward slice of sentence from index\n",
        "def forward_slice(sentence, index):\n",
        "    balance = 0\n",
        "    i = index\n",
        "\n",
        "    while i < len(sentence):\n",
        "        if sentence[i] == \"(\":\n",
        "          balance += 1\n",
        "        else:\n",
        "          if sentence[i] == \")\":\n",
        "            balance -= 1\n",
        "          else:\n",
        "            balance += 0\n",
        "        if balance == 0 and sentence[i] != \"!\":\n",
        "            return sentence[index : (i + 1)], i\n",
        "        i += 1"
      ],
      "metadata": {
        "id": "GwdXClEjgS2g"
      },
      "execution_count": 4,
      "outputs": []
    },
    {
      "cell_type": "code",
      "source": [
        "# Function used to return the backward slice of sentence\n",
        "def backward_slice(sentence):\n",
        "    balance = 0\n",
        "    L = len(sentence)\n",
        "    i = L - 1\n",
        "\n",
        "    while i >= 0:\n",
        "        if sentence[i] == \"(\":\n",
        "          balance += 1\n",
        "        else:\n",
        "          if sentence[i] == \")\":\n",
        "            balance -= 1\n",
        "          else:\n",
        "            balance += 0\n",
        "        if balance == 0:\n",
        "            i -= 1 if i > 0 and sentence[i - 1] == \"!\" else 0\n",
        "            return sentence[i:L], sentence[0:i]\n",
        "        i -= 1"
      ],
      "metadata": {
        "id": "ZAFbrrlThtn4"
      },
      "execution_count": 6,
      "outputs": []
    },
    {
      "cell_type": "code",
      "source": [
        "def around_unary_op(sentence, op):\n",
        "    processed_sentence = []\n",
        "    i = 0\n",
        "    while i < len(sentence):\n",
        "        if sentence[i] == op:\n",
        "            i += 1\n",
        "            sentence_slice, i = forward_slice(sentence, i)\n",
        "            sentence_slice = around_unary_op(sentence_slice, op)\n",
        "            processed_sentence += [\"(\", \"!\"] + sentence_slice.copy() + [\")\"]\n",
        "        else:\n",
        "            processed_sentence.append(sentence[i])\n",
        "        i += 1\n",
        "    return processed_sentence"
      ],
      "metadata": {
        "id": "B2auqBkQiHfA"
      },
      "execution_count": 10,
      "outputs": []
    },
    {
      "cell_type": "code",
      "source": [
        "def around_binary_op(sentence, op):\n",
        "    processed_sentence = []\n",
        "    i = 0\n",
        "    while i < len(sentence):\n",
        "        if sentence[i] == op:\n",
        "            A, processed_sentence = backward_slice(processed_sentence)\n",
        "            A = around_binary_op(A, op)\n",
        "            i += 1\n",
        "            sentence_slice, i = forward_slice(sentence, i)\n",
        "            sentence_slice = around_binary_op(sentence_slice, op)\n",
        "            processed_sentence += (\n",
        "                [\"(\"] + A.copy() + [op] + sentence_slice.copy() + [\")\"]\n",
        "            )\n",
        "        else:\n",
        "            processed_sentence.append(sentence[i])\n",
        "        i += 1\n",
        "    return processed_sentence"
      ],
      "metadata": {
        "id": "9S8QQVR8ijVI"
      },
      "execution_count": 11,
      "outputs": []
    },
    {
      "cell_type": "code",
      "source": [
        "def induce_parenthesis(sentence):\n",
        "    sentence = around_unary_op(sentence, \"!\")\n",
        "    sentence = around_binary_op(sentence, \"&\")\n",
        "    sentence = around_binary_op(sentence, \"|\")\n",
        "    sentence = around_binary_op(sentence, \">\")\n",
        "    sentence = around_binary_op(sentence, \"=\")\n",
        "    return sentence"
      ],
      "metadata": {
        "id": "EJ1fCdv7jDKM"
      },
      "execution_count": 12,
      "outputs": []
    },
    {
      "cell_type": "code",
      "source": [
        "def literal_not_protected(sentence):\n",
        "    if not any(is_prop_operator(i) for i in sentence):\n",
        "        return False\n",
        "\n",
        "    off_balance = 0\n",
        "    for i in range(0, len(sentence)):\n",
        "        if sentence[i] == \"(\":\n",
        "            off_balance += 1\n",
        "        elif sentence[i] == \")\":\n",
        "            off_balance -= 1\n",
        "        elif off_balance == 0:\n",
        "            return True\n",
        "\n",
        "    return False"
      ],
      "metadata": {
        "id": "_eFO3GrLkKGS"
      },
      "execution_count": 13,
      "outputs": []
    },
    {
      "cell_type": "code",
      "source": [
        "# Function returns ((A>B)&(B>A)) as equivalent of (A=B)\n",
        "def iff_equivalent(A, B):\n",
        "    return (\n",
        "        [\"(\", \"(\"]\n",
        "        + A.copy()\n",
        "        + [\">\"]\n",
        "        + B.copy()\n",
        "        + [\")\", \"&\", \"(\"]\n",
        "        + B.copy()\n",
        "        + [\">\"]\n",
        "        + A.copy()\n",
        "        + [\")\", \")\"]\n",
        "    )"
      ],
      "metadata": {
        "id": "fMs02OO6ktfq"
      },
      "execution_count": 31,
      "outputs": []
    },
    {
      "cell_type": "code",
      "source": [
        "# Function returns ((!A)|B) as equivalent of (A>B)\n",
        "def implies_equivalent(A, B):\n",
        "    return [\"(\", \"(\", \"!\"] + A.copy() + [\")\", \"|\"] + B.copy() + [\")\"]"
      ],
      "metadata": {
        "id": "qol7mvwHlBpL"
      },
      "execution_count": 8,
      "outputs": []
    },
    {
      "cell_type": "code",
      "source": [
        "# Function identifies instances of the operator and replacing them with their equivalent expressions\n",
        "def eliminate_op(sentence, op):\n",
        "    processed_sentence = []\n",
        "    i = 0\n",
        "    while i < len(sentence):\n",
        "        if sentence[i] == op:\n",
        "            A, processed_sentence = backward_slice(processed_sentence)\n",
        "            i += 1\n",
        "            B, i = forward_slice(sentence, i)\n",
        "            A = eliminate_op(A, op)\n",
        "            B = eliminate_op(B, op)\n",
        "            processed_sentence += (\n",
        "                iff_equivalent(A, B) if op == \"=\" else implies_equivalent(A, B)\n",
        "            ).copy()\n",
        "        else:\n",
        "            processed_sentence.append(sentence[i])\n",
        "        i += 1\n",
        "    return processed_sentence"
      ],
      "metadata": {
        "id": "V85aYNXVlUq6"
      },
      "execution_count": 32,
      "outputs": []
    },
    {
      "cell_type": "code",
      "source": [
        "def process_operand(operand):\n",
        "    operand = eliminate_invalid_parenthesis(operand)\n",
        "    if operand[0] == \"(\":\n",
        "        return (\n",
        "            [\"(\"]\n",
        "            + [j for j in operand[1 : len(operand) - 1] if j not in [\"(\", \")\"]]\n",
        "            + [\")\"]\n",
        "        )\n",
        "    else:\n",
        "        return [j for j in operand[0 : len(operand)] if j not in [\"(\", \")\"]]\n",
        "\n"
      ],
      "metadata": {
        "id": "-fNKGNEMl3SL"
      },
      "execution_count": 15,
      "outputs": []
    },
    {
      "cell_type": "code",
      "source": [
        "def split_around_and(sentence):\n",
        "    processed_sentence = []\n",
        "    operand = []\n",
        "\n",
        "    for i in range(0, len(sentence)):\n",
        "        if sentence[i] == \"&\":\n",
        "            processed_sentence += process_operand(operand).copy()\n",
        "            processed_sentence.append(\"&\")\n",
        "            operand.clear()\n",
        "        else:\n",
        "            operand.append(sentence[i])\n",
        "\n",
        "    return processed_sentence + process_operand(operand).copy()"
      ],
      "metadata": {
        "id": "UlsnHKTAqIEm"
      },
      "execution_count": 16,
      "outputs": []
    },
    {
      "cell_type": "code",
      "source": [
        "def move_not_inwards(sentence):\n",
        "    processed_sentence = []\n",
        "\n",
        "    while True:\n",
        "        processed_sentence = []\n",
        "        i = 0\n",
        "        while i < len(sentence):\n",
        "            if sentence[i] == \"!\":\n",
        "                i += 1\n",
        "                B, i = forward_slice(sentence, i)\n",
        "                if B[0] == \"(\":\n",
        "                    processed_sentence.append(\"(\")\n",
        "                    j = 1\n",
        "                    while j < len(B):\n",
        "                        tmp, j = forward_slice(B, j)\n",
        "                        tmp.pop(0) if tmp[0] == \"!\" else tmp.insert(0, \"!\")\n",
        "                        processed_sentence += tmp.copy()\n",
        "                        j += 1\n",
        "                        if j < len(B) - 1:\n",
        "                            processed_sentence += (\n",
        "                                [\"&\"] if B[j] == \"|\" else [\"|\"] if (B[j] == \"&\") else []\n",
        "                            )\n",
        "                        j += 1\n",
        "                    processed_sentence.append(\")\")\n",
        "                else:\n",
        "                    B.pop(0) if B[0] == \"!\" else processed_sentence.append(\"!\")\n",
        "                    processed_sentence += B.copy()\n",
        "            else:\n",
        "                processed_sentence.append(sentence[i])\n",
        "            i += 1\n",
        "\n",
        "        if processed_sentence == sentence:\n",
        "            break\n",
        "        sentence = processed_sentence\n",
        "\n",
        "    return processed_sentence"
      ],
      "metadata": {
        "id": "XjNOXuh0qhCD"
      },
      "execution_count": 17,
      "outputs": []
    },
    {
      "cell_type": "code",
      "source": [
        "def distribute_or_over_and(sentence):\n",
        "    processed_sentence = []\n",
        "\n",
        "    i = 0\n",
        "    while i < len(sentence):\n",
        "        if sentence[i] == \"|\":\n",
        "            A, processed_sentence = backward_slice(processed_sentence)\n",
        "            A = distribute_or_over_and(A)\n",
        "\n",
        "            tmp3 = []\n",
        "            if A[0] == \"(\":\n",
        "                j = 1\n",
        "                while j < (len(A) - 1):\n",
        "                    tmp, j = forward_slice(A, j)\n",
        "                    tmp3.append(tmp.copy())\n",
        "                    j += 2\n",
        "            else:\n",
        "                tmp3.append(A.copy())\n",
        "\n",
        "            i += 1\n",
        "            assert i < len(sentence)\n",
        "\n",
        "            B, i = forward_slice(sentence, i)\n",
        "            B = distribute_or_over_and(B)\n",
        "\n",
        "            tmp2 = []\n",
        "            if B[0] == \"(\":\n",
        "                j = 1\n",
        "                while j < (len(B) - 1):\n",
        "                    tmp, j = forward_slice(B, j)\n",
        "                    tmp2.append(tmp.copy())\n",
        "                    j += 2\n",
        "            else:\n",
        "                tmp2.append(B.copy())\n",
        "\n",
        "            for k in range(0, len(tmp2)):\n",
        "                for m in range(0, len(tmp3)):\n",
        "                    processed_sentence += (\n",
        "                        [\"(\"]\n",
        "                        + tmp3[m].copy()\n",
        "                        + [\"|\"]\n",
        "                        + tmp2[k].copy()\n",
        "                        + [\")\"]\n",
        "                        + ([\"&\"] if m != len(tmp3) - 1 else [])\n",
        "                    )\n",
        "                processed_sentence += [\"&\"] if k != len(tmp2) - 1 else []\n",
        "        else:\n",
        "            processed_sentence.append(sentence[i])\n",
        "\n",
        "        i += 1\n",
        "\n",
        "    return processed_sentence"
      ],
      "metadata": {
        "id": "JH1lylshrWYN"
      },
      "execution_count": 18,
      "outputs": []
    },
    {
      "cell_type": "code",
      "source": [
        "def eliminate_invalid_parenthesis(sentence):\n",
        "    processed_sentence = []\n",
        "    brackets = []\n",
        "    content = []\n",
        "\n",
        "    for i in range(0, len(sentence)):\n",
        "        if sentence[i] == \"(\":\n",
        "            content.append(processed_sentence.copy())\n",
        "            brackets.append(\"(\")\n",
        "            processed_sentence.clear()\n",
        "        elif sentence[i] == \")\" and len(content):\n",
        "            if literal_not_protected(processed_sentence):\n",
        "                processed_sentence = [\"(\"] + processed_sentence + [\")\"]\n",
        "            processed_sentence = content[len(content) - 1].copy() + processed_sentence\n",
        "            brackets.pop()\n",
        "            content.pop()\n",
        "        else:\n",
        "            processed_sentence.append(sentence[i])\n",
        "\n",
        "    return processed_sentence"
      ],
      "metadata": {
        "id": "4qBhABMeskw4"
      },
      "execution_count": 19,
      "outputs": []
    },
    {
      "cell_type": "markdown",
      "source": [
        "### **Part(0) - Function to convert each formula into CNF**"
      ],
      "metadata": {
        "id": "CflOAnfYs_o5"
      }
    },
    {
      "cell_type": "code",
      "source": [
        "# Function returns Conjunctive Normal Form (CNF) of the sentence.\n",
        "def CNF(sentence):\n",
        "    sentence = eliminate_op(sentence, \"=\")\n",
        "    sentence = eliminate_invalid_parenthesis(sentence)\n",
        "    sentence = eliminate_op(sentence, \">\")\n",
        "    sentence = eliminate_invalid_parenthesis(sentence)\n",
        "    sentence = move_not_inwards(sentence)\n",
        "    sentence = eliminate_invalid_parenthesis(sentence)\n",
        "\n",
        "    prev = []\n",
        "    while prev != sentence:\n",
        "        prev = sentence\n",
        "        sentence = distribute_or_over_and(sentence)\n",
        "        sentence = eliminate_invalid_parenthesis(sentence)\n",
        "\n",
        "    return split_around_and(sentence)"
      ],
      "metadata": {
        "id": "s7gaIexLs_YM"
      },
      "execution_count": 25,
      "outputs": []
    },
    {
      "cell_type": "code",
      "source": [
        "# Function returns the sentence in CNF after vetting sentence with proper parenthesis\n",
        "def vet_sentence(sentence):\n",
        "    sentence = induce_parenthesis(sentence)\n",
        "    sentence = eliminate_invalid_parenthesis(sentence)\n",
        "    return CNF(sentence)"
      ],
      "metadata": {
        "id": "w2-jEXjwu6w2"
      },
      "execution_count": 26,
      "outputs": []
    },
    {
      "cell_type": "code",
      "source": [
        "# Function returns a map where keys are literals in sentence and value is True if they are negated and False otherwise.\n",
        "def clause_map(sentence):\n",
        "    m = {}\n",
        "    j = 1 if sentence[0] == \"(\" else 0\n",
        "    L = len(sentence) - 1 if sentence[0] == \"(\" else len(sentence)\n",
        "    while j < L:\n",
        "        literal, j = forward_slice(sentence, j)\n",
        "        if literal[0] == \"!\":\n",
        "            m[literal[1]] = True\n",
        "        else:\n",
        "            m[literal[0]] = False\n",
        "        j += 2\n",
        "    return m"
      ],
      "metadata": {
        "id": "yxcCxtwqtksb"
      },
      "execution_count": 20,
      "outputs": []
    },
    {
      "cell_type": "code",
      "source": [
        "def format_dict(dictionary):\n",
        "    return \", \".join(\n",
        "        [(\"!\" if dictionary[key] else \"\") + str(key) for key in dictionary]\n",
        "    )"
      ],
      "metadata": {
        "id": "b6z0i1Aatwiy"
      },
      "execution_count": 21,
      "outputs": []
    },
    {
      "cell_type": "code",
      "source": [
        "# Function to take the input in the desired format as mentioned in assignment\n",
        "# Returns m, list of propositional sentences and query\n",
        "\n",
        "def _get_input():\n",
        "    n, m = input().split()\n",
        "    n = int(n)\n",
        "    m = int(m)\n",
        "\n",
        "    sentences = []\n",
        "    while n:\n",
        "        sentences.append(input().splitlines()[0])\n",
        "        n -= 1\n",
        "\n",
        "    query = input().splitlines()[0]\n",
        "\n",
        "    return m, sentences, query"
      ],
      "metadata": {
        "id": "KOeDGbZuvMay"
      },
      "execution_count": 9,
      "outputs": []
    },
    {
      "cell_type": "markdown",
      "source": [
        "### **Implement the resolution-refutation algorithm posing it as an uninformed search problem**"
      ],
      "metadata": {
        "id": "EgJYhsBbkrfO"
      }
    },
    {
      "cell_type": "code",
      "source": [
        "# Function to resolve the given sentence and to print or not to print the resolution steps\n",
        "def resolve(sentence, mode):\n",
        "    clause = []\n",
        "    clauses = []\n",
        "    clause_maps = []\n",
        "    for literal in sentence:\n",
        "        if literal == \"&\":\n",
        "            clauses.append(\"\".join(clause))\n",
        "            clause_maps.append(clause_map(clause))\n",
        "            clause.clear()\n",
        "        else:\n",
        "            clause.append(literal)\n",
        "    clauses.append(\"\".join(clause))\n",
        "    clause_maps.append(clause_map(clause))\n",
        "    new_clause_maps = []\n",
        "\n",
        "    if mode:\n",
        "        print(\"Clauses <- The set of clauses in the CNF representation of (KB & !Q)\")\n",
        "        print(\"Clauses: {}\".format(clauses))\n",
        "        print(\"New Clauses <- {}\")\n",
        "        print(\"For each pair of clauses C_i, C_j in Clauses do:\")\n",
        "\n",
        "    while True:\n",
        "        for i in range(0, len(clause_maps)):\n",
        "            for j in range((i + 1), len(clause_maps)):\n",
        "                resolvent = {}\n",
        "                for var in clause_maps[i]:\n",
        "                    if (\n",
        "                        var not in clause_maps[j]\n",
        "                        or clause_maps[j][var] == clause_maps[i][var]\n",
        "                    ):\n",
        "                        resolvent[var] = clause_maps[i][var]\n",
        "\n",
        "                for var in clause_maps[j]:\n",
        "                    if var not in clause_maps[i]:\n",
        "                        resolvent[var] = clause_maps[j][var]\n",
        "\n",
        "                print(\n",
        "                    \"\\t({}) <- RESOLVE(({}), ({}))\".format(\n",
        "                        format_dict(resolvent),\n",
        "                        format_dict(clause_maps[i]),\n",
        "                        format_dict(clause_maps[j]),\n",
        "                    )\n",
        "                ) if mode else None\n",
        "\n",
        "                if not bool(resolvent):\n",
        "                    print(\n",
        "                        \"\\tIf Resolvents contains the empty clause: Return True.\"\n",
        "                    ) if mode else None\n",
        "                    return True\n",
        "\n",
        "                new_clause_maps.append(\n",
        "                    resolvent\n",
        "                ) if resolvent not in new_clause_maps else None\n",
        "                print(\"\\tNew Clauses <- New Clauses ∪ Resolvents\") if mode else None\n",
        "\n",
        "        if all(new_clause_map in clause_maps for new_clause_map in new_clause_maps):\n",
        "            print(\"If New Clauses ⊆ Clauses : Return False\") if mode else None\n",
        "            return False\n",
        "\n",
        "        clause_maps += [\n",
        "            new_clause_map\n",
        "            for new_clause_map in new_clause_maps\n",
        "            if new_clause_map not in clause_maps\n",
        "        ]\n",
        "        print(\"Clauses <- Clauses ∪ New Clauses\") if mode else None"
      ],
      "metadata": {
        "id": "Ql4008OZk8mr"
      },
      "execution_count": 101,
      "outputs": []
    },
    {
      "cell_type": "code",
      "source": [
        "from queue import Queue\n",
        "\n",
        "def generate_neighbors(sentence):\n",
        "    neighbors = []\n",
        "    for i in range(len(sentence)):\n",
        "        if sentence[i] == \"&\":\n",
        "            # Identify clauses to resolve\n",
        "            clause_1, _ = backward_slice(sentence[:i])\n",
        "            clause_2, _ = forward_slice(sentence, i + 1)\n",
        "\n",
        "            resolvent = resolve_clauses(clause_1, clause_2)\n",
        "\n",
        "            if resolvent is not None:\n",
        "                # Creating a new state with the resolved clauses\n",
        "                new_state = sentence[:i - len(clause_1)] + resolvent + sentence[i + len(clause_2) + 1:]\n",
        "                neighbors.append(new_state)\n",
        "\n",
        "    return neighbors\n",
        "\n",
        "# Function to resolve two clauses and returns the resolvent if applicable.\n",
        "def resolve_clauses(clause_1, clause_2):\n",
        "    clause_map_1 = clause_map(clause_1)\n",
        "    clause_map_2 = clause_map(clause_2)\n",
        "\n",
        "    resolvent = {}\n",
        "    for var in clause_map_1:\n",
        "        if var in clause_map_2 and clause_map_2[var] != clause_map_1[var]:\n",
        "            return None  # Contradiction, cannot resolve\n",
        "\n",
        "        resolvent[var] = clause_map_1[var]\n",
        "\n",
        "    for var in clause_map_2:\n",
        "        if var not in clause_map_1:\n",
        "            resolvent[var] = clause_map_2[var]\n",
        "\n",
        "    return [format_dict(resolvent)]"
      ],
      "metadata": {
        "id": "5bqnpY82vuaY"
      },
      "execution_count": 100,
      "outputs": []
    },
    {
      "cell_type": "code",
      "source": [
        "def uninformed_search(knowledge_base, query, mode):\n",
        "    q = Queue()\n",
        "    initial_state = vet_sentence(knowledge_base + [\"&\", \"(\", \"!\", \"(\", *query, \")\", \")\"])\n",
        "    q.put(initial_state)\n",
        "    num_explored_nodes = 0\n",
        "\n",
        "    while not q.empty():\n",
        "        current_state= q.get()\n",
        "        num_explored_nodes += 1\n",
        "\n",
        "        if resolve(current_state, mode):\n",
        "            return 1,num_explored_nodes  # Goal state reached (unsatisfiability)\n",
        "\n",
        "        # Explore neighboring states (apply resolution steps)\n",
        "        for neighbor in generate_neighbors(current_state):\n",
        "            q.put(neighbor)\n",
        "\n",
        "    return 0,num_explored_nodes  # No empty clause found\n"
      ],
      "metadata": {
        "id": "07F941zQrahY"
      },
      "execution_count": 102,
      "outputs": []
    },
    {
      "cell_type": "code",
      "source": [
        "if __name__ == \"__main__\":\n",
        "    m, sentences, query = _get_input()\n",
        "\n",
        "    knowledge_base = []\n",
        "    for sentence in sentences:\n",
        "        knowledge_base += vet_sentence(segment_sentence(sentence)).copy()\n",
        "        knowledge_base.append(\"&\")\n",
        "    knowledge_base.pop()\n",
        "\n",
        "    query = vet_sentence(segment_sentence(query))\n",
        "\n",
        "    result,num_explored_nodes = uninformed_search(knowledge_base, query, m)\n",
        "\n",
        "    # If m == 0 :\n",
        "    #   Printing only the result (integer 0 or 1)\n",
        "    # If m == 1 :\n",
        "    #   Printing the resolution steps\n",
        "    #   Printing the result (integer 0 or 1) in the last line\n",
        "\n",
        "    print(\"Result: \",result)\n",
        "    print(\"Number of Nodes Explored:\", num_explored_nodes)"
      ],
      "metadata": {
        "colab": {
          "base_uri": "https://localhost:8080/"
        },
        "id": "3rERcOMgjaHZ",
        "outputId": "4a545137-2336-4467-eb7c-70e738776db3"
      },
      "execution_count": 113,
      "outputs": [
        {
          "output_type": "stream",
          "name": "stdout",
          "text": [
            "6 0\n",
            "A>B\n",
            "!B\n",
            "!A>(C|D)\n",
            "C>E\n",
            "F>!E\n",
            "F\n",
            "D\n",
            "Result:  1\n",
            "Number of Nodes Explored: 1\n"
          ]
        }
      ]
    },
    {
      "cell_type": "markdown",
      "source": [
        "### **Implement the resolution-refutation algorithm posing it as a greedy search problem. For this, design a task-specific heuristic function**"
      ],
      "metadata": {
        "id": "p1bQU6JxiI1k"
      }
    },
    {
      "cell_type": "code",
      "source": [
        "# A heuristic function based on the number of literals in a clause.\n",
        "def heuristic(clause):\n",
        "    return len([literal for literal in clause if literal != \"&\"])"
      ],
      "metadata": {
        "id": "tq9zQ2yQNU19"
      },
      "execution_count": 109,
      "outputs": []
    },
    {
      "cell_type": "code",
      "source": [
        "def resolve_greedy(sentence, mode):\n",
        "    clause = []\n",
        "    clauses = []\n",
        "    clause_maps = []\n",
        "    node_counter=0\n",
        "    for literal in sentence:\n",
        "        if literal == \"&\":\n",
        "            clauses.append(\"\".join(clause))\n",
        "            clause_maps.append(clause_map(clause))\n",
        "            clause.clear()\n",
        "        else:\n",
        "            clause.append(literal)\n",
        "    clauses.append(\"\".join(clause))\n",
        "    clause_maps.append(clause_map(clause))\n",
        "    new_clause_maps = []\n",
        "\n",
        "    if mode:\n",
        "        print(\"Clauses <- The set of clauses in the CNF representation of (KB & !Q)\")\n",
        "        print(\"Clauses: {}\".format(clauses))\n",
        "        print(\"New Clauses <- {}\")\n",
        "        print(\"For each pair of clauses C_i, C_j in Clauses do:\")\n",
        "\n",
        "    while True:\n",
        "        for i in range(0, len(clause_maps)):\n",
        "            for j in range((i + 1), len(clause_maps)):\n",
        "                node_counter+=1\n",
        "                resolvent = {}\n",
        "                for var in clause_maps[i]:\n",
        "                    if (\n",
        "                        var not in clause_maps[j]\n",
        "                        or clause_maps[j][var] == clause_maps[i][var]\n",
        "                    ):\n",
        "                        resolvent[var] = clause_maps[i][var]\n",
        "\n",
        "                for var in clause_maps[j]:\n",
        "                    if var not in clause_maps[i]:\n",
        "                        resolvent[var] = clause_maps[j][var]\n",
        "\n",
        "                print(\n",
        "                    \"\\t({}) <- RESOLVE(({}), ({}))\".format(\n",
        "                        format_dict(resolvent),\n",
        "                        format_dict(clause_maps[i]),\n",
        "                        format_dict(clause_maps[j]),\n",
        "                    )\n",
        "                ) if mode else None\n",
        "\n",
        "                if not bool(resolvent):\n",
        "                    print(\n",
        "                        \"\\tIf Resolvents contains the empty clause: Return True.\"\n",
        "                    ) if mode else None\n",
        "                    return 1, node_counter\n",
        "\n",
        "                new_clause_maps.append(resolvent) if resolvent not in new_clause_maps else None\n",
        "                print(\"\\tNew Clauses <- New Clauses ∪ Resolvents\") if mode else None\n",
        "\n",
        "        if all(new_clause_map in clause_maps for new_clause_map in new_clause_maps):\n",
        "            print(\"If New Clauses ⊆ Clauses : Return False\") if mode else None\n",
        "            return 0,node_counter\n",
        "\n",
        "        # Sort new_clause_maps based on the heuristic\n",
        "        new_clause_maps.sort(key=heuristic)\n",
        "\n",
        "        clause_maps += [\n",
        "            new_clause_map\n",
        "            for new_clause_map in new_clause_maps\n",
        "            if new_clause_map not in clause_maps\n",
        "        ]\n",
        "        print(\"Clauses <- Clauses ∪ New Clauses\") if mode else None\n"
      ],
      "metadata": {
        "id": "KlAbWX-ScOQG"
      },
      "execution_count": 110,
      "outputs": []
    },
    {
      "cell_type": "code",
      "source": [
        "def main():\n",
        "    m, sentences, query = _get_input()\n",
        "\n",
        "    knowledge_base = []\n",
        "    for sentence in sentences:\n",
        "        sentence = vet_sentence(segment_sentence(sentence))\n",
        "        knowledge_base += sentence.copy()\n",
        "        knowledge_base.append(\"&\")\n",
        "    knowledge_base.pop()\n",
        "\n",
        "    query = vet_sentence(segment_sentence(query))\n",
        "\n",
        "    # rub : Input for resolution\n",
        "    rub = [\"!\"] + query.copy()\n",
        "    if len(knowledge_base) > 0:\n",
        "        rub = knowledge_base.copy() + [\"&\", \"(\"] + rub.copy() + [\")\"]\n",
        "\n",
        "    if len(rub):\n",
        "        rub = vet_sentence(rub)\n",
        "        result, node = resolve_greedy(rub, m)\n",
        "        print(\"Result: \",result)\n",
        "        print(\"Total Nodes Explored: \",node)\n",
        "\n",
        "if __name__ == \"__main__\":\n",
        "    main()"
      ],
      "metadata": {
        "colab": {
          "base_uri": "https://localhost:8080/"
        },
        "id": "nqxKADq4dd2W",
        "outputId": "f2d3c56c-74b0-4a65-fc64-8486a829edf8"
      },
      "execution_count": 112,
      "outputs": [
        {
          "output_type": "stream",
          "name": "stdout",
          "text": [
            "3 1\n",
            "(P>Q)>Q\n",
            "(P>P)>R\n",
            "(R>S)>!(S>Q)\n",
            "R\n",
            "Clauses <- The set of clauses in the CNF representation of (KB & !Q)\n",
            "Clauses: ['(P|Q)', '(!Q|Q)', '(P|R)', '(!P|R)', '(R|S)', '(!S|S)', '(R|!Q)', '(!S|!Q)', '(!R)']\n",
            "New Clauses <- {}\n",
            "For each pair of clauses C_i, C_j in Clauses do:\n",
            "\t(P, Q) <- RESOLVE((P, Q), (Q))\n",
            "\tNew Clauses <- New Clauses ∪ Resolvents\n",
            "\t(P, Q, R) <- RESOLVE((P, Q), (P, R))\n",
            "\tNew Clauses <- New Clauses ∪ Resolvents\n",
            "\t(Q, R) <- RESOLVE((P, Q), (!P, R))\n",
            "\tNew Clauses <- New Clauses ∪ Resolvents\n",
            "\t(P, Q, R, S) <- RESOLVE((P, Q), (R, S))\n",
            "\tNew Clauses <- New Clauses ∪ Resolvents\n",
            "\t(P, Q, S) <- RESOLVE((P, Q), (S))\n",
            "\tNew Clauses <- New Clauses ∪ Resolvents\n",
            "\t(P, R) <- RESOLVE((P, Q), (R, !Q))\n",
            "\tNew Clauses <- New Clauses ∪ Resolvents\n",
            "\t(P, !S) <- RESOLVE((P, Q), (!S, !Q))\n",
            "\tNew Clauses <- New Clauses ∪ Resolvents\n",
            "\t(P, Q, !R) <- RESOLVE((P, Q), (!R))\n",
            "\tNew Clauses <- New Clauses ∪ Resolvents\n",
            "\t(Q, P, R) <- RESOLVE((Q), (P, R))\n",
            "\tNew Clauses <- New Clauses ∪ Resolvents\n",
            "\t(Q, !P, R) <- RESOLVE((Q), (!P, R))\n",
            "\tNew Clauses <- New Clauses ∪ Resolvents\n",
            "\t(Q, R, S) <- RESOLVE((Q), (R, S))\n",
            "\tNew Clauses <- New Clauses ∪ Resolvents\n",
            "\t(Q, S) <- RESOLVE((Q), (S))\n",
            "\tNew Clauses <- New Clauses ∪ Resolvents\n",
            "\t(R) <- RESOLVE((Q), (R, !Q))\n",
            "\tNew Clauses <- New Clauses ∪ Resolvents\n",
            "\t(!S) <- RESOLVE((Q), (!S, !Q))\n",
            "\tNew Clauses <- New Clauses ∪ Resolvents\n",
            "\t(Q, !R) <- RESOLVE((Q), (!R))\n",
            "\tNew Clauses <- New Clauses ∪ Resolvents\n",
            "\t(R) <- RESOLVE((P, R), (!P, R))\n",
            "\tNew Clauses <- New Clauses ∪ Resolvents\n",
            "\t(P, R, S) <- RESOLVE((P, R), (R, S))\n",
            "\tNew Clauses <- New Clauses ∪ Resolvents\n",
            "\t(P, R, S) <- RESOLVE((P, R), (S))\n",
            "\tNew Clauses <- New Clauses ∪ Resolvents\n",
            "\t(P, R, !Q) <- RESOLVE((P, R), (R, !Q))\n",
            "\tNew Clauses <- New Clauses ∪ Resolvents\n",
            "\t(P, R, !S, !Q) <- RESOLVE((P, R), (!S, !Q))\n",
            "\tNew Clauses <- New Clauses ∪ Resolvents\n",
            "\t(P) <- RESOLVE((P, R), (!R))\n",
            "\tNew Clauses <- New Clauses ∪ Resolvents\n",
            "\t(!P, R, S) <- RESOLVE((!P, R), (R, S))\n",
            "\tNew Clauses <- New Clauses ∪ Resolvents\n",
            "\t(!P, R, S) <- RESOLVE((!P, R), (S))\n",
            "\tNew Clauses <- New Clauses ∪ Resolvents\n",
            "\t(!P, R, !Q) <- RESOLVE((!P, R), (R, !Q))\n",
            "\tNew Clauses <- New Clauses ∪ Resolvents\n",
            "\t(!P, R, !S, !Q) <- RESOLVE((!P, R), (!S, !Q))\n",
            "\tNew Clauses <- New Clauses ∪ Resolvents\n",
            "\t(!P) <- RESOLVE((!P, R), (!R))\n",
            "\tNew Clauses <- New Clauses ∪ Resolvents\n",
            "\t(R, S) <- RESOLVE((R, S), (S))\n",
            "\tNew Clauses <- New Clauses ∪ Resolvents\n",
            "\t(R, S, !Q) <- RESOLVE((R, S), (R, !Q))\n",
            "\tNew Clauses <- New Clauses ∪ Resolvents\n",
            "\t(R, !Q) <- RESOLVE((R, S), (!S, !Q))\n",
            "\tNew Clauses <- New Clauses ∪ Resolvents\n",
            "\t(S) <- RESOLVE((R, S), (!R))\n",
            "\tNew Clauses <- New Clauses ∪ Resolvents\n",
            "\t(S, R, !Q) <- RESOLVE((S), (R, !Q))\n",
            "\tNew Clauses <- New Clauses ∪ Resolvents\n",
            "\t(!Q) <- RESOLVE((S), (!S, !Q))\n",
            "\tNew Clauses <- New Clauses ∪ Resolvents\n",
            "\t(S, !R) <- RESOLVE((S), (!R))\n",
            "\tNew Clauses <- New Clauses ∪ Resolvents\n",
            "\t(R, !Q, !S) <- RESOLVE((R, !Q), (!S, !Q))\n",
            "\tNew Clauses <- New Clauses ∪ Resolvents\n",
            "\t(!Q) <- RESOLVE((R, !Q), (!R))\n",
            "\tNew Clauses <- New Clauses ∪ Resolvents\n",
            "\t(!S, !Q, !R) <- RESOLVE((!S, !Q), (!R))\n",
            "\tNew Clauses <- New Clauses ∪ Resolvents\n",
            "Clauses <- Clauses ∪ New Clauses\n",
            "\t(P, Q) <- RESOLVE((P, Q), (Q))\n",
            "\tNew Clauses <- New Clauses ∪ Resolvents\n",
            "\t(P, Q, R) <- RESOLVE((P, Q), (P, R))\n",
            "\tNew Clauses <- New Clauses ∪ Resolvents\n",
            "\t(Q, R) <- RESOLVE((P, Q), (!P, R))\n",
            "\tNew Clauses <- New Clauses ∪ Resolvents\n",
            "\t(P, Q, R, S) <- RESOLVE((P, Q), (R, S))\n",
            "\tNew Clauses <- New Clauses ∪ Resolvents\n",
            "\t(P, Q, S) <- RESOLVE((P, Q), (S))\n",
            "\tNew Clauses <- New Clauses ∪ Resolvents\n",
            "\t(P, R) <- RESOLVE((P, Q), (R, !Q))\n",
            "\tNew Clauses <- New Clauses ∪ Resolvents\n",
            "\t(P, !S) <- RESOLVE((P, Q), (!S, !Q))\n",
            "\tNew Clauses <- New Clauses ∪ Resolvents\n",
            "\t(P, Q, !R) <- RESOLVE((P, Q), (!R))\n",
            "\tNew Clauses <- New Clauses ∪ Resolvents\n",
            "\t(P, Q, R) <- RESOLVE((P, Q), (R))\n",
            "\tNew Clauses <- New Clauses ∪ Resolvents\n",
            "\t(P, Q, !S) <- RESOLVE((P, Q), (!S))\n",
            "\tNew Clauses <- New Clauses ∪ Resolvents\n",
            "\t(P, Q) <- RESOLVE((P, Q), (P))\n",
            "\tNew Clauses <- New Clauses ∪ Resolvents\n",
            "\t(Q) <- RESOLVE((P, Q), (!P))\n",
            "\tNew Clauses <- New Clauses ∪ Resolvents\n",
            "\t(P) <- RESOLVE((P, Q), (!Q))\n",
            "\tNew Clauses <- New Clauses ∪ Resolvents\n",
            "\t(P, Q, R) <- RESOLVE((P, Q), (Q, R))\n",
            "\tNew Clauses <- New Clauses ∪ Resolvents\n",
            "\t(P, Q, !S) <- RESOLVE((P, Q), (P, !S))\n",
            "\tNew Clauses <- New Clauses ∪ Resolvents\n",
            "\t(P, Q, S) <- RESOLVE((P, Q), (Q, S))\n",
            "\tNew Clauses <- New Clauses ∪ Resolvents\n",
            "\t(P, Q, !R) <- RESOLVE((P, Q), (Q, !R))\n",
            "\tNew Clauses <- New Clauses ∪ Resolvents\n",
            "\t(P, Q, S, !R) <- RESOLVE((P, Q), (S, !R))\n",
            "\tNew Clauses <- New Clauses ∪ Resolvents\n",
            "\t(P, Q, R) <- RESOLVE((P, Q), (P, Q, R))\n",
            "\tNew Clauses <- New Clauses ∪ Resolvents\n",
            "\t(P, Q, S) <- RESOLVE((P, Q), (P, Q, S))\n",
            "\tNew Clauses <- New Clauses ∪ Resolvents\n",
            "\t(P, Q, !R) <- RESOLVE((P, Q), (P, Q, !R))\n",
            "\tNew Clauses <- New Clauses ∪ Resolvents\n",
            "\t(Q, R) <- RESOLVE((P, Q), (Q, !P, R))\n",
            "\tNew Clauses <- New Clauses ∪ Resolvents\n",
            "\t(P, Q, R, S) <- RESOLVE((P, Q), (Q, R, S))\n",
            "\tNew Clauses <- New Clauses ∪ Resolvents\n",
            "\t(P, Q, R, S) <- RESOLVE((P, Q), (P, R, S))\n",
            "\tNew Clauses <- New Clauses ∪ Resolvents\n",
            "\t(P, R) <- RESOLVE((P, Q), (P, R, !Q))\n",
            "\tNew Clauses <- New Clauses ∪ Resolvents\n",
            "\t(Q, R, S) <- RESOLVE((P, Q), (!P, R, S))\n",
            "\tNew Clauses <- New Clauses ∪ Resolvents\n",
            "\t(R) <- RESOLVE((P, Q), (!P, R, !Q))\n",
            "\tNew Clauses <- New Clauses ∪ Resolvents\n",
            "\t(P, R, S) <- RESOLVE((P, Q), (R, S, !Q))\n",
            "\tNew Clauses <- New Clauses ∪ Resolvents\n",
            "\t(P, R, !S) <- RESOLVE((P, Q), (R, !Q, !S))\n",
            "\tNew Clauses <- New Clauses ∪ Resolvents\n",
            "\t(P, !S, !R) <- RESOLVE((P, Q), (!S, !Q, !R))\n",
            "\tNew Clauses <- New Clauses ∪ Resolvents\n",
            "\t(P, Q, R, S) <- RESOLVE((P, Q), (P, Q, R, S))\n",
            "\tNew Clauses <- New Clauses ∪ Resolvents\n",
            "\t(P, R, !S) <- RESOLVE((P, Q), (P, R, !S, !Q))\n",
            "\tNew Clauses <- New Clauses ∪ Resolvents\n",
            "\t(R, !S) <- RESOLVE((P, Q), (!P, R, !S, !Q))\n",
            "\tNew Clauses <- New Clauses ∪ Resolvents\n",
            "\t(Q, P, R) <- RESOLVE((Q), (P, R))\n",
            "\tNew Clauses <- New Clauses ∪ Resolvents\n",
            "\t(Q, !P, R) <- RESOLVE((Q), (!P, R))\n",
            "\tNew Clauses <- New Clauses ∪ Resolvents\n",
            "\t(Q, R, S) <- RESOLVE((Q), (R, S))\n",
            "\tNew Clauses <- New Clauses ∪ Resolvents\n",
            "\t(Q, S) <- RESOLVE((Q), (S))\n",
            "\tNew Clauses <- New Clauses ∪ Resolvents\n",
            "\t(R) <- RESOLVE((Q), (R, !Q))\n",
            "\tNew Clauses <- New Clauses ∪ Resolvents\n",
            "\t(!S) <- RESOLVE((Q), (!S, !Q))\n",
            "\tNew Clauses <- New Clauses ∪ Resolvents\n",
            "\t(Q, !R) <- RESOLVE((Q), (!R))\n",
            "\tNew Clauses <- New Clauses ∪ Resolvents\n",
            "\t(Q, R) <- RESOLVE((Q), (R))\n",
            "\tNew Clauses <- New Clauses ∪ Resolvents\n",
            "\t(Q, !S) <- RESOLVE((Q), (!S))\n",
            "\tNew Clauses <- New Clauses ∪ Resolvents\n",
            "\t(Q, P) <- RESOLVE((Q), (P))\n",
            "\tNew Clauses <- New Clauses ∪ Resolvents\n",
            "\t(Q, !P) <- RESOLVE((Q), (!P))\n",
            "\tNew Clauses <- New Clauses ∪ Resolvents\n",
            "\t() <- RESOLVE((Q), (!Q))\n",
            "\tIf Resolvents contains the empty clause: Return True.\n",
            "Result:  1\n",
            "Total Nodes Explored:  81\n"
          ]
        }
      ]
    }
  ]
}